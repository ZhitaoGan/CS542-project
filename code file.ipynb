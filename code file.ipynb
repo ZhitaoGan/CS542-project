{
 "cells": [
  {
   "cell_type": "code",
   "execution_count": 2,
   "metadata": {
    "id": "W91N3diI3-z_"
   },
   "outputs": [],
   "source": [
    "import csv\n",
    "\n",
    "#convert data txt file into csv file\n",
    "input_file_path = '/content/drive/Shareddrives/cs/movies.txt'\n",
    "output_file_path = '/content/drive/Shareddrives/cs/new.csv'\n",
    "\n",
    "\n",
    "input_file = open(input_file_path, 'r',encoding= u'utf-8',errors='ignore')\n",
    "cols = [\n",
    "    'ProductId',\n",
    "    'Userid',\n",
    "    'Profilename',\n",
    "    'Helpfulness',\n",
    "    'Score',\n",
    "    'Time',\n",
    "    'Summary',\n",
    "    'Text'\n",
    "    ]\n",
    "\n",
    "output_file = open(output_file_path, 'w', encoding='utf8')\n",
    "w = csv.writer(output_file)\n",
    "w.writerow(cols) # write table header first\n",
    "\n",
    "def write_row(doc):\n",
    "    w.writerow([doc.get(col) for col in cols])\n",
    "\n",
    "count = 0\n",
    "doc = {}\n",
    "for line in input_file:\n",
    "    line = line.strip()\n",
    "    if line == '':\n",
    "        write_row(doc)\n",
    "        doc = {}\n",
    "        count += 1\n",
    "       \n",
    "    else:\n",
    "        idx = line.find(':')\n",
    "        key, value = tuple([line[:idx], line[idx+1:]])\n",
    "        key = key.strip().replace('/', '_').lower()\n",
    "        value = value.strip()\n",
    "        doc[key] = value\n",
    "\n",
    "# write the last row if there is one\n",
    "if doc:\n",
    "    write_row(doc)\n",
    "    count += 1\n",
    "\n",
    "\n",
    "# close files\n",
    "input_file.close()\n",
    "output_file.close()\n"
   ]
  },
  {
   "cell_type": "code",
   "execution_count": 3,
   "metadata": {
    "colab": {
     "base_uri": "https://localhost:8080/",
     "height": 282
    },
    "id": "j7ZsyFfV5gCl",
    "outputId": "fad78df5-0165-4fb2-ec4e-049cfd205ce6"
   },
   "outputs": [],
   "source": [
    "#read 1 million rows and save it as a new csv file\n",
    "data=pd.read_csv('/content/drive/Shareddrives/cs/movie_data.csv',nrows = 1000000)\n",
    "data.to_csv('/content/drive/Shareddrives/cs/Data/movie_reviews',index=False)"
   ]
  },
  {
   "cell_type": "code",
   "execution_count": 4,
   "metadata": {
    "id": "GnT301zHB55j"
   },
   "outputs": [],
   "source": [
    "#read the final dataset\n",
    "import pandas as pd\n",
    "df=pd.read_csv('./data/movie_reviews')"
   ]
  },
  {
   "cell_type": "code",
   "execution_count": 5,
   "metadata": {
    "colab": {
     "base_uri": "https://localhost:8080/",
     "height": 565
    },
    "id": "mMDwwg3S5-sG",
    "outputId": "48c7b0a7-9214-4d6f-9302-bb620195c956",
    "scrolled": true
   },
   "outputs": [
    {
     "data": {
      "text/html": [
       "<div>\n",
       "<style scoped>\n",
       "    .dataframe tbody tr th:only-of-type {\n",
       "        vertical-align: middle;\n",
       "    }\n",
       "\n",
       "    .dataframe tbody tr th {\n",
       "        vertical-align: top;\n",
       "    }\n",
       "\n",
       "    .dataframe thead th {\n",
       "        text-align: right;\n",
       "    }\n",
       "</style>\n",
       "<table border=\"1\" class=\"dataframe\">\n",
       "  <thead>\n",
       "    <tr style=\"text-align: right;\">\n",
       "      <th></th>\n",
       "      <th>product_productid</th>\n",
       "      <th>review_userid</th>\n",
       "      <th>review_profilename</th>\n",
       "      <th>review_helpfulness</th>\n",
       "      <th>review_score</th>\n",
       "      <th>review_time</th>\n",
       "      <th>review_summary</th>\n",
       "      <th>review_text</th>\n",
       "    </tr>\n",
       "  </thead>\n",
       "  <tbody>\n",
       "    <tr>\n",
       "      <th>0</th>\n",
       "      <td>B003AI2VGA</td>\n",
       "      <td>A141HP4LYPWMSR</td>\n",
       "      <td>Brian E. Erland \"Rainbow Sphinx\"</td>\n",
       "      <td>7/7</td>\n",
       "      <td>3.0</td>\n",
       "      <td>1182729600</td>\n",
       "      <td>\"There Is So Much Darkness Now ~ Come For The ...</td>\n",
       "      <td>Synopsis: On the daily trek from Juarez, Mexic...</td>\n",
       "    </tr>\n",
       "    <tr>\n",
       "      <th>1</th>\n",
       "      <td>B003AI2VGA</td>\n",
       "      <td>A328S9RN3U5M68</td>\n",
       "      <td>Grady Harp</td>\n",
       "      <td>4/4</td>\n",
       "      <td>3.0</td>\n",
       "      <td>1181952000</td>\n",
       "      <td>Worthwhile and Important Story Hampered by Poo...</td>\n",
       "      <td>THE VIRGIN OF JUAREZ is based on true events s...</td>\n",
       "    </tr>\n",
       "    <tr>\n",
       "      <th>2</th>\n",
       "      <td>B003AI2VGA</td>\n",
       "      <td>A1I7QGUDP043DG</td>\n",
       "      <td>Chrissy K. McVay \"Writer\"</td>\n",
       "      <td>8/10</td>\n",
       "      <td>5.0</td>\n",
       "      <td>1164844800</td>\n",
       "      <td>This movie needed to be made.</td>\n",
       "      <td>The scenes in this film can be very disquietin...</td>\n",
       "    </tr>\n",
       "    <tr>\n",
       "      <th>3</th>\n",
       "      <td>B003AI2VGA</td>\n",
       "      <td>A1M5405JH9THP9</td>\n",
       "      <td>golgotha.gov</td>\n",
       "      <td>1/1</td>\n",
       "      <td>3.0</td>\n",
       "      <td>1197158400</td>\n",
       "      <td>distantly based on a real tragedy</td>\n",
       "      <td>THE VIRGIN OF JUAREZ (2006)&lt;br /&gt;directed by K...</td>\n",
       "    </tr>\n",
       "    <tr>\n",
       "      <th>4</th>\n",
       "      <td>B003AI2VGA</td>\n",
       "      <td>ATXL536YX71TR</td>\n",
       "      <td>KerrLines \"&amp;#34;Movies,Music,Theatre&amp;#34;\"</td>\n",
       "      <td>1/1</td>\n",
       "      <td>3.0</td>\n",
       "      <td>1188345600</td>\n",
       "      <td>\"What's going on down in Juarez and shining a ...</td>\n",
       "      <td>Informationally, this SHOWTIME original is ess...</td>\n",
       "    </tr>\n",
       "  </tbody>\n",
       "</table>\n",
       "</div>"
      ],
      "text/plain": [
       "  product_productid   review_userid  \\\n",
       "0        B003AI2VGA  A141HP4LYPWMSR   \n",
       "1        B003AI2VGA  A328S9RN3U5M68   \n",
       "2        B003AI2VGA  A1I7QGUDP043DG   \n",
       "3        B003AI2VGA  A1M5405JH9THP9   \n",
       "4        B003AI2VGA   ATXL536YX71TR   \n",
       "\n",
       "                           review_profilename review_helpfulness  \\\n",
       "0            Brian E. Erland \"Rainbow Sphinx\"                7/7   \n",
       "1                                  Grady Harp                4/4   \n",
       "2                   Chrissy K. McVay \"Writer\"               8/10   \n",
       "3                                golgotha.gov                1/1   \n",
       "4  KerrLines \"&#34;Movies,Music,Theatre&#34;\"                1/1   \n",
       "\n",
       "   review_score  review_time  \\\n",
       "0           3.0   1182729600   \n",
       "1           3.0   1181952000   \n",
       "2           5.0   1164844800   \n",
       "3           3.0   1197158400   \n",
       "4           3.0   1188345600   \n",
       "\n",
       "                                      review_summary  \\\n",
       "0  \"There Is So Much Darkness Now ~ Come For The ...   \n",
       "1  Worthwhile and Important Story Hampered by Poo...   \n",
       "2                      This movie needed to be made.   \n",
       "3                  distantly based on a real tragedy   \n",
       "4  \"What's going on down in Juarez and shining a ...   \n",
       "\n",
       "                                         review_text  \n",
       "0  Synopsis: On the daily trek from Juarez, Mexic...  \n",
       "1  THE VIRGIN OF JUAREZ is based on true events s...  \n",
       "2  The scenes in this film can be very disquietin...  \n",
       "3  THE VIRGIN OF JUAREZ (2006)<br />directed by K...  \n",
       "4  Informationally, this SHOWTIME original is ess...  "
      ]
     },
     "execution_count": 5,
     "metadata": {},
     "output_type": "execute_result"
    }
   ],
   "source": [
    "df.head(5)"
   ]
  },
  {
   "cell_type": "code",
   "execution_count": 6,
   "metadata": {},
   "outputs": [
    {
     "data": {
      "image/png": "[encoded data removed]",
      "text/plain": [
       "<Figure size 432x288 with 1 Axes>"
      ]
     },
     "metadata": {
      "needs_background": "light"
     },
     "output_type": "display_data"
    }
   ],
   "source": [
    "#plot distribution\n",
    "import matplotlib.pyplot as plt\n",
    "\n",
    "fig, ax = plt.subplots()\n",
    "df['review_score'].value_counts().plot(ax=ax, kind='bar', xlabel='Review scores', ylabel='frequency')\n",
    "plt.title('distribution of the scores')\n",
    "plt.show()"
   ]
  },
  {
   "cell_type": "code",
   "execution_count": 7,
   "metadata": {
    "id": "8KcFJv6WBjIq"
   },
   "outputs": [],
   "source": [
    "#convert the str values to int values in the column helpfulness\n",
    "new_int=[]\n",
    "for x in list(df['review_helpfulness'].values):\n",
    "  new_list=x.split(\"/\")\n",
    "  num1=int(new_list[0])\n",
    "  num2=int(new_list[1])\n",
    "  if num2==0:\n",
    "    new_int.append(0)\n",
    "  else:\n",
    "    new_int.append(num1/num2)\n",
    "\n",
    "#print(new_int[:100])\n",
    "df['review_helpfulness']=new_int"
   ]
  },
  {
   "cell_type": "code",
   "execution_count": 8,
   "metadata": {
    "colab": {
     "base_uri": "https://localhost:8080/"
    },
    "id": "8x4eK0RVCENv",
    "outputId": "cc07e255-de11-4128-97e2-b5c6234e3710"
   },
   "outputs": [
    {
     "data": {
      "text/plain": [
       "0    1.0\n",
       "1    1.0\n",
       "2    0.8\n",
       "3    1.0\n",
       "4    1.0\n",
       "Name: review_helpfulness, dtype: float64"
      ]
     },
     "execution_count": 8,
     "metadata": {},
     "output_type": "execute_result"
    }
   ],
   "source": [
    "df['review_helpfulness'].head(5)"
   ]
  },
  {
   "cell_type": "code",
   "execution_count": 9,
   "metadata": {
    "id": "Gvk6fn1ME0W9"
   },
   "outputs": [],
   "source": [
    "#change the column\n",
    "column_name=['ProductId','UserId','review_profilename','Helpfulness','Score','Time','Summary','Text']\n",
    "df.columns=column_name"
   ]
  },
  {
   "cell_type": "code",
   "execution_count": 10,
   "metadata": {
    "id": "5zSm9UZRFCzv"
   },
   "outputs": [],
   "source": [
    "#drop the useless columns\n",
    "df=df.drop(columns=['review_profilename'])"
   ]
  },
  {
   "cell_type": "code",
   "execution_count": 11,
   "metadata": {
    "id": "PWUl50K4Flon"
   },
   "outputs": [],
   "source": [
    "#drop all the NaN values\n",
    "df.dropna(inplace=True)"
   ]
  },
  {
   "cell_type": "code",
   "execution_count": 12,
   "metadata": {
    "colab": {
     "base_uri": "https://localhost:8080/"
    },
    "id": "9ZHuCIcWFzQS",
    "outputId": "f34aaa85-5f1b-4d09-f9ab-a71f43bc02d5"
   },
   "outputs": [
    {
     "data": {
      "text/plain": [
       "ProductId      0\n",
       "UserId         0\n",
       "Helpfulness    0\n",
       "Score          0\n",
       "Time           0\n",
       "Summary        0\n",
       "Text           0\n",
       "dtype: int64"
      ]
     },
     "execution_count": 12,
     "metadata": {},
     "output_type": "execute_result"
    }
   ],
   "source": [
    "#Check if there are any NaN values\n",
    "df.isnull().sum()"
   ]
  },
  {
   "cell_type": "code",
   "execution_count": 13,
   "metadata": {
    "id": "oes4exfgGKaa"
   },
   "outputs": [],
   "source": [
    "# Add new feature, the average product scores\n",
    "Average_product_score=df[['ProductId','Score']].groupby(df['ProductId']).aggregate({'Score': 'mean'})\n",
    "df = df.merge(Average_product_score, how='left',on='ProductId')\n",
    "df = df.rename(columns={'Score_x': 'Score'})\n",
    "df = df.rename(columns={'Score_y': 'Average_product_score'})"
   ]
  },
  {
   "cell_type": "code",
   "execution_count": 14,
   "metadata": {
    "id": "jDaVn1FtHrwt"
   },
   "outputs": [],
   "source": [
    "# Add new feature, the average User scores\n",
    "Average_User_score=df[['UserId','Score']].groupby(df['UserId']).aggregate({'Score': 'mean'})\n",
    "df = df.merge(Average_User_score, how='left',on='UserId')\n",
    "df = df.rename(columns={'Score_x': 'Score'})\n",
    "df = df.rename(columns={'Score_y': 'Average_User_score'})"
   ]
  },
  {
   "cell_type": "code",
   "execution_count": 15,
   "metadata": {
    "id": "7H5fvFoLHsy7"
   },
   "outputs": [],
   "source": [
    "# Merging Summary and Text into one colunm\n",
    "df['text + summary']=df['Text'] + ' ' + df['Summary']\n",
    "df=df.drop(columns=['Text','Summary'])"
   ]
  },
  {
   "cell_type": "code",
   "execution_count": 16,
   "metadata": {
    "colab": {
     "base_uri": "https://localhost:8080/",
     "height": 206
    },
    "id": "Dz_f2tixJga5",
    "outputId": "84d2afbc-c28e-4c40-b49d-566596b38aa7"
   },
   "outputs": [
    {
     "data": {
      "text/html": [
       "<div>\n",
       "<style scoped>\n",
       "    .dataframe tbody tr th:only-of-type {\n",
       "        vertical-align: middle;\n",
       "    }\n",
       "\n",
       "    .dataframe tbody tr th {\n",
       "        vertical-align: top;\n",
       "    }\n",
       "\n",
       "    .dataframe thead th {\n",
       "        text-align: right;\n",
       "    }\n",
       "</style>\n",
       "<table border=\"1\" class=\"dataframe\">\n",
       "  <thead>\n",
       "    <tr style=\"text-align: right;\">\n",
       "      <th></th>\n",
       "      <th>ProductId</th>\n",
       "      <th>UserId</th>\n",
       "      <th>Helpfulness</th>\n",
       "      <th>Score</th>\n",
       "      <th>Time</th>\n",
       "      <th>Average_product_score</th>\n",
       "      <th>Average_User_score</th>\n",
       "      <th>text + summary</th>\n",
       "    </tr>\n",
       "  </thead>\n",
       "  <tbody>\n",
       "    <tr>\n",
       "      <th>0</th>\n",
       "      <td>B003AI2VGA</td>\n",
       "      <td>A141HP4LYPWMSR</td>\n",
       "      <td>1.0</td>\n",
       "      <td>3.0</td>\n",
       "      <td>1182729600</td>\n",
       "      <td>2.857143</td>\n",
       "      <td>4.144766</td>\n",
       "      <td>Synopsis: On the daily trek from Juarez, Mexic...</td>\n",
       "    </tr>\n",
       "    <tr>\n",
       "      <th>1</th>\n",
       "      <td>B003AI2VGA</td>\n",
       "      <td>A328S9RN3U5M68</td>\n",
       "      <td>1.0</td>\n",
       "      <td>3.0</td>\n",
       "      <td>1181952000</td>\n",
       "      <td>2.857143</td>\n",
       "      <td>4.131435</td>\n",
       "      <td>THE VIRGIN OF JUAREZ is based on true events s...</td>\n",
       "    </tr>\n",
       "    <tr>\n",
       "      <th>2</th>\n",
       "      <td>B003AI2VGA</td>\n",
       "      <td>A1I7QGUDP043DG</td>\n",
       "      <td>0.8</td>\n",
       "      <td>5.0</td>\n",
       "      <td>1164844800</td>\n",
       "      <td>2.857143</td>\n",
       "      <td>4.700441</td>\n",
       "      <td>The scenes in this film can be very disquietin...</td>\n",
       "    </tr>\n",
       "    <tr>\n",
       "      <th>3</th>\n",
       "      <td>B003AI2VGA</td>\n",
       "      <td>A1M5405JH9THP9</td>\n",
       "      <td>1.0</td>\n",
       "      <td>3.0</td>\n",
       "      <td>1197158400</td>\n",
       "      <td>2.857143</td>\n",
       "      <td>3.357143</td>\n",
       "      <td>THE VIRGIN OF JUAREZ (2006)&lt;br /&gt;directed by K...</td>\n",
       "    </tr>\n",
       "    <tr>\n",
       "      <th>4</th>\n",
       "      <td>B003AI2VGA</td>\n",
       "      <td>ATXL536YX71TR</td>\n",
       "      <td>1.0</td>\n",
       "      <td>3.0</td>\n",
       "      <td>1188345600</td>\n",
       "      <td>2.857143</td>\n",
       "      <td>3.903409</td>\n",
       "      <td>Informationally, this SHOWTIME original is ess...</td>\n",
       "    </tr>\n",
       "  </tbody>\n",
       "</table>\n",
       "</div>"
      ],
      "text/plain": [
       "    ProductId          UserId  Helpfulness  Score        Time  \\\n",
       "0  B003AI2VGA  A141HP4LYPWMSR          1.0    3.0  1182729600   \n",
       "1  B003AI2VGA  A328S9RN3U5M68          1.0    3.0  1181952000   \n",
       "2  B003AI2VGA  A1I7QGUDP043DG          0.8    5.0  1164844800   \n",
       "3  B003AI2VGA  A1M5405JH9THP9          1.0    3.0  1197158400   \n",
       "4  B003AI2VGA   ATXL536YX71TR          1.0    3.0  1188345600   \n",
       "\n",
       "   Average_product_score  Average_User_score  \\\n",
       "0               2.857143            4.144766   \n",
       "1               2.857143            4.131435   \n",
       "2               2.857143            4.700441   \n",
       "3               2.857143            3.357143   \n",
       "4               2.857143            3.903409   \n",
       "\n",
       "                                      text + summary  \n",
       "0  Synopsis: On the daily trek from Juarez, Mexic...  \n",
       "1  THE VIRGIN OF JUAREZ is based on true events s...  \n",
       "2  The scenes in this film can be very disquietin...  \n",
       "3  THE VIRGIN OF JUAREZ (2006)<br />directed by K...  \n",
       "4  Informationally, this SHOWTIME original is ess...  "
      ]
     },
     "execution_count": 16,
     "metadata": {},
     "output_type": "execute_result"
    }
   ],
   "source": [
    "# cleaned dataset\n",
    "df.head(5)"
   ]
  },
  {
   "cell_type": "code",
   "execution_count": 17,
   "metadata": {
    "id": "fhMxoVpwP288"
   },
   "outputs": [],
   "source": [
    "from sklearn.model_selection import train_test_split\n",
    "\n",
    "#split data into train and test set\n",
    "X_train, X_test, Y_train, Y_test = train_test_split(\n",
    "        df.drop(['Score'], axis=1),\n",
    "        df['Score'],\n",
    "        test_size=0.3,\n",
    "        random_state=0\n",
    "    )"
   ]
  },
  {
   "cell_type": "code",
   "execution_count": 18,
   "metadata": {
    "id": "cDezHu2fMBw0"
   },
   "outputs": [],
   "source": [
    "#seperate numercal columns and text columns\n",
    "Numerical_columns=['Average_product_score','Average_User_score','Helpfulness','Average_product_score','Average_User_score']\n",
    "Categorical_columns='text + summary'"
   ]
  },
  {
   "cell_type": "markdown",
   "metadata": {
    "id": "tSPr1FezXHdk"
   },
   "source": [
    "## Analysis on numerical columns ##"
   ]
  },
  {
   "cell_type": "code",
   "execution_count": 19,
   "metadata": {
    "colab": {
     "base_uri": "https://localhost:8080/",
     "height": 388
    },
    "id": "zIKZwxq4PHW-",
    "outputId": "59c1f44f-91ac-42ce-8454-38b62feefd2e"
   },
   "outputs": [
    {
     "data": {
      "image/png": "[encoded data removed]",
      "text/plain": [
       "<Figure size 432x432 with 1 Axes>"
      ]
     },
     "metadata": {
      "needs_background": "light"
     },
     "output_type": "display_data"
    }
   ],
   "source": [
    "#use StandardScaler to transform data and Check if dimension reduction could be applied\n",
    "\n",
    "from sklearn.decomposition import PCA\n",
    "%matplotlib inline\n",
    "import matplotlib.pyplot as plt\n",
    "from sklearn.preprocessing import StandardScaler\n",
    "\n",
    "scalar = StandardScaler()\n",
    "df_scaled = scalar.fit_transform(X_train[Numerical_columns])\n",
    "pca = PCA()\n",
    "df_pca=pca.fit_transform(df_scaled)\n",
    "pd.DataFrame(pca.explained_variance_ratio_).plot(figsize=(6, 6))\n",
    "plt.legend('')\n",
    "plt.xlabel('Principal Components')\n",
    "plt.ylabel('Explained Varience')\n",
    "plt.show()"
   ]
  },
  {
   "cell_type": "code",
   "execution_count": 20,
   "metadata": {
    "colab": {
     "base_uri": "https://localhost:8080/",
     "height": 297
    },
    "id": "tqhHoXKGPXqy",
    "outputId": "0b932280-caa7-4c95-89fa-b3d31daa62e4"
   },
   "outputs": [
    {
     "data": {
      "text/plain": [
       "Text(0, 0.5, 'Accuracy')"
      ]
     },
     "execution_count": 20,
     "metadata": {},
     "output_type": "execute_result"
    },
    {
     "data": {
      "image/png": "[encoded data removed]",
      "text/plain": [
       "<Figure size 432x288 with 1 Axes>"
      ]
     },
     "metadata": {
      "needs_background": "light"
     },
     "output_type": "display_data"
    }
   ],
   "source": [
    "#Check the best k for KNeighborsClassifier\n",
    "from sklearn.neighbors import KNeighborsClassifier\n",
    "from sklearn.metrics import accuracy_score, confusion_matrix\n",
    "from sklearn import metrics\n",
    "\n",
    "\n",
    "Range_k = range(1,30)\n",
    "scores_list = []\n",
    "for k in Range_k:\n",
    "    classifier = KNeighborsClassifier(n_neighbors=k)\n",
    "    classifier.fit(X_train[Numerical_columns][:100000], Y_train[:100000])\n",
    "    y_pred = classifier.predict(X_test[Numerical_columns][:10000])\n",
    "    scores_list.append(metrics.accuracy_score(Y_test[:10000],y_pred))\n",
    "plt.plot(Range_k,scores_list)\n",
    "plt.xlabel(\"Value of K for KNeighbors for numerical\")\n",
    "plt.ylabel(\"Accuracy\") "
   ]
  },
  {
   "cell_type": "code",
   "execution_count": 21,
   "metadata": {
    "colab": {
     "base_uri": "https://localhost:8080/"
    },
    "id": "QzI2jWFCSMh7",
    "outputId": "53ef825d-be26-4af4-9725-298d977fcaa2"
   },
   "outputs": [
    {
     "name": "stdout",
     "output_type": "stream",
     "text": [
      "Tree best parameters : {'criterion': 'entropy', 'max_depth': 5, 'min_samples_leaf': 30, 'min_samples_split': 20, 'min_weight_fraction_leaf': 0.0}\n",
      "Tree best estimator : DecisionTreeClassifier(criterion='entropy', max_depth=5, min_samples_leaf=30,\n",
      "                       min_samples_split=20)\n",
      "Tree best score : 0.7353000000000001\n"
     ]
    }
   ],
   "source": [
    "#Check the best k for decision tree\n",
    "import numpy as np\n",
    "from sklearn import tree\n",
    "from sklearn.model_selection import GridSearchCV\n",
    "from sklearn import tree\n",
    "\n",
    "param_grid = {'min_samples_leaf':np.arange(20,50,5),\n",
    "              'min_samples_split':np.arange(20,50,5),\n",
    "              'max_depth':np.arange(3,6),\n",
    "              'min_weight_fraction_leaf':np.arange(0,0.4,0.1),\n",
    "              'criterion':['gini','entropy']}\n",
    "clf = tree.DecisionTreeClassifier()\n",
    "tree_search = GridSearchCV(clf, param_grid)\n",
    "tree_search.fit(X_train[Numerical_columns][:30000], Y_train[:30000])\n",
    "\n",
    "print(\"Tree best parameters :\",tree_search.best_params_)\n",
    "print(\"Tree best estimator :\",tree_search.best_estimator_ )\n",
    "print(\"Tree best score :\",tree_search.best_score_ )"
   ]
  },
  {
   "cell_type": "markdown",
   "metadata": {},
   "source": [
    "# Make prediction based on numerical data #"
   ]
  },
  {
   "cell_type": "code",
   "execution_count": 22,
   "metadata": {},
   "outputs": [
    {
     "name": "stdout",
     "output_type": "stream",
     "text": [
      "Accuracy on testing set =  0.7446\n"
     ]
    },
    {
     "data": {
      "image/png": "[encoded data removed]",
      "text/plain": [
       "<Figure size 432x288 with 2 Axes>"
      ]
     },
     "metadata": {
      "needs_background": "light"
     },
     "output_type": "display_data"
    }
   ],
   "source": [
    "#Using knn model\n",
    "import seaborn as sns\n",
    "\n",
    "knn_model = KNeighborsClassifier(n_neighbors=10).fit(X_train[Numerical_columns][:100000], Y_train[:100000])\n",
    "Ypred = knn_model.predict(X_test[Numerical_columns][:10000])\n",
    "\n",
    "#Evaluate your model on the testing set\n",
    "print(\"Accuracy on testing set = \", accuracy_score(Y_test[:10000], Ypred))\n",
    "\n",
    "# Plot a confusion matrix\n",
    "cm = confusion_matrix(Y_test[:10000], Ypred[:10000], normalize='true')\n",
    "sns.heatmap(cm, annot=True)\n",
    "plt.title('Confusion matrix of the knn classifier')\n",
    "plt.xlabel('Predicted')\n",
    "plt.ylabel('True')\n",
    "plt.show()"
   ]
  },
  {
   "cell_type": "code",
   "execution_count": 23,
   "metadata": {},
   "outputs": [
    {
     "name": "stdout",
     "output_type": "stream",
     "text": [
      "Accuracy on testing set =  0.7371\n"
     ]
    },
    {
     "data": {
      "image/png": "[encoded data removed]",
      "text/plain": [
       "<Figure size 432x288 with 2 Axes>"
      ]
     },
     "metadata": {
      "needs_background": "light"
     },
     "output_type": "display_data"
    }
   ],
   "source": [
    "#using decision tree model\n",
    "from sklearn.tree import DecisionTreeClassifier\n",
    "\n",
    "d_model =DecisionTreeClassifier(criterion='entropy', max_depth=5, min_samples_leaf=30,\n",
    "                                min_samples_split=20).fit(X_train[Numerical_columns][:100000], Y_train[:100000])\n",
    "Ypred = d_model.predict(X_test[Numerical_columns][:10000])\n",
    "\n",
    "#Evaluate your model on the testing set\n",
    "print(\"Accuracy on testing set = \", accuracy_score(Y_test[:10000], Ypred))\n",
    "\n",
    "# Plot a confusion matrix\n",
    "cm = confusion_matrix(Y_test[:10000], Ypred[:10000], normalize='true')\n",
    "sns.heatmap(cm, annot=True)\n",
    "plt.title('Confusion matrix of the DecisionTree classifier')\n",
    "plt.xlabel('Predicted')\n",
    "plt.ylabel('True')\n",
    "plt.show()"
   ]
  },
  {
   "cell_type": "markdown",
   "metadata": {
    "id": "lD59xcl1XBjx"
   },
   "source": [
    "## Anylysis on text column ##"
   ]
  },
  {
   "cell_type": "code",
   "execution_count": 24,
   "metadata": {
    "id": "iXn8DwGATB2M"
   },
   "outputs": [],
   "source": [
    "#Helper function for Tdif methods\n",
    "\n",
    "from nltk.stem.snowball import SnowballStemmer\n",
    "from nltk.tokenize import word_tokenize, sent_tokenize\n",
    "from spacy.lang.en.stop_words import STOP_WORDS\n",
    "import string\n",
    "\n",
    "\n",
    "punct = string.punctuation      #list of puntuations\n",
    "stopwords = list(STOP_WORDS)    # list of stopwords\n",
    "snowball = SnowballStemmer(language='english')\n",
    "def Cleaned_data(df):\n",
    "    data=df\n",
    "    message=sent_tokenize(data)\n",
    "    word_tokens=[]\n",
    "    for word in message:\n",
    "        word_tokens+=word_tokenize(word)\n",
    "    cleaned_tokens=[]\n",
    "    for token in word_tokens:\n",
    "        #remove all the punctuations\n",
    "        if token not in punct and token not in stopwords:\n",
    "            cleaned_tokens.append(token)\n",
    "    return cleaned_tokens\n",
    "\n"
   ]
  },
  {
   "cell_type": "code",
   "execution_count": 25,
   "metadata": {},
   "outputs": [
    {
     "name": "stdout",
     "output_type": "stream",
     "text": [
      "['Synopsis', 'On', 'daily', 'trek', 'Juarez', 'Mexico', 'El', 'Paso', 'Texas', 'increasing', 'number', 'female', 'workers', 'found', 'raped', 'murdered', 'surrounding', 'desert', 'Investigative', 'reporter', 'Karina', 'Danes', 'Minnie', 'Driver', 'arrives', 'Los', 'Angeles', 'pursue', 'story', 'angers', 'local', 'police', 'factory', 'owners', 'employee', 'undocumented', 'aliens', 'pointed', 'questions', 'relentless', 'quest', 'truth.', 'br', 'br', 'Her', 'story', 'goes', 'nationwide', 'young', 'girl', 'named', 'Mariela', 'Ana', 'Claudia', 'Talancon', 'survives', 'vicious', 'attack', 'walks', 'desert', 'crediting', 'Blessed', 'Virgin', 'rescue', 'Her', 'story', 'enhanced', '``', 'Wounds', 'Christ', \"''\", 'stigmata', 'appear', 'palms', 'She', 'claims', 'received', 'message', 'hope', 'Virgin', 'Mary', 'soon', 'fanatical', 'movement', 'forms', 'fight', 'evil', 'holds', 'stranglehold', 'area.', 'br', 'br', 'Critique', 'Possessing', 'lifelong', 'fascination', 'esoteric', 'matters', 'Catholic', 'mysticism', 'miracles', 'mysterious', 'appearance', 'stigmata', 'I', 'immediately', 'attracted', \"'05\", 'DVD', 'release', 'Virgin', 'Juarez', 'The', 'film', 'offers', 'unique', 'storyline', 'blending', 'current', 'socio-political', 'concerns', 'constant', 'flow', 'Mexican', 'migrant', 'workers', 'forth', 'U.S./Mexican', 'border', 'traditional', 'Catholic', 'beliefs', 'Hispanic', 'population', 'I', 'I', 'surprised', 'unexpected', 'route', 'taken', 'plot', 'means', 'methods', 'heavenly', 'message', 'unfolds.', 'br', 'br', 'Virgin', 'Juarez', 'film', 'care', 'watch', 'interesting', 'merit', 'viewing', 'Minnie', 'Driver', 'delivers', 'solid', 'performance', 'Ana', 'Claudia', 'Talancon', 'perfect', 'fragile', 'innocent', 'visionary', 'Mariela', 'Also', 'starring', 'Esai', 'Morales', 'Angus', 'Macfadyen', 'Braveheart', '``', 'There', 'Is', 'So', 'Much', 'Darkness', 'Now', 'Come', 'For', 'The', 'Miracle', \"''\"]\n"
     ]
    }
   ],
   "source": [
    "#Show the data after it passes the Cleaned_data function\n",
    "print(Cleaned_data(list(df[\"text + summary\"].values)[0]))"
   ]
  },
  {
   "cell_type": "code",
   "execution_count": 26,
   "metadata": {
    "id": "jVzF4wI7YEhr"
   },
   "outputs": [],
   "source": [
    "from sklearn.feature_extraction.text import TfidfVectorizer\n",
    "\n",
    "#transform the text data by using TfidVectorizer\n",
    "Tfid=TfidfVectorizer(tokenizer=Cleaned_data,max_features=20000, ngram_range=(1,5))\n",
    "X_train_Tfid=Tfid.fit_transform(X_train[Categorical_columns][:300000])\n",
    "X_test_Tfid=Tfid.fit_transform(X_test[Categorical_columns][:100000])\n"
   ]
  },
  {
   "cell_type": "code",
   "execution_count": 27,
   "metadata": {
    "colab": {
     "base_uri": "https://localhost:8080/"
    },
    "id": "pOxUxBLyZW_0",
    "outputId": "262c24d4-fd2e-4201-c370-8613dfdee9dd"
   },
   "outputs": [
    {
     "name": "stdout",
     "output_type": "stream",
     "text": [
      "the accuracy without balance 0.4229\n",
      "the accuracy with balance parameter 0.3493\n"
     ]
    }
   ],
   "source": [
    "#Chest if class_weight='balanced' would improve accuracy\n",
    "from sklearn.svm import LinearSVC\n",
    "from sklearn import metrics\n",
    "\n",
    "classifier = LinearSVC()\n",
    "classifier.fit(X_train_Tfid, Y_train[:300000])\n",
    "y_pred = classifier.predict(X_test_Tfid)\n",
    "print(\"the accuracy without balance\",metrics.accuracy_score(Y_test[:100000],y_pred))\n",
    "\n",
    "classifier = LinearSVC(class_weight='balanced')\n",
    "classifier.fit(X_train_Tfid, Y_train[:300000])\n",
    "y_pred = classifier.predict(X_test_Tfid)\n",
    "print(\"the accuracy with balance parameter\",metrics.accuracy_score(Y_test[:100000],y_pred))"
   ]
  },
  {
   "cell_type": "markdown",
   "metadata": {
    "id": "ZUOErlCddeQu"
   },
   "source": [
    "We could see above that the LinearSVC model is better without \"balanced\" parameter"
   ]
  },
  {
   "cell_type": "code",
   "execution_count": 28,
   "metadata": {
    "id": "d_fgUThOb9LV"
   },
   "outputs": [
    {
     "data": {
      "image/png": "[encoded data removed]",
      "text/plain": [
       "<Figure size 432x288 with 1 Axes>"
      ]
     },
     "metadata": {
      "needs_background": "light"
     },
     "output_type": "display_data"
    }
   ],
   "source": [
    "#Find the best parameters of LinearSVC\n",
    "\n",
    "Range_k = range(1,15)\n",
    "scores_list = []\n",
    "for k in Range_k:\n",
    "    classifier = LinearSVC(C=k)\n",
    "    classifier.fit(X_train_Tfid, Y_train[:300000])\n",
    "    y_pred = classifier.predict(X_test_Tfid)\n",
    "    scores_list.append(metrics.accuracy_score(Y_test[:100000],y_pred))\n",
    "plt.plot(Range_k,scores_list)\n",
    "plt.xlabel(\"Value of C in LinearSVC model after TfidfVectorizer\")\n",
    "plt.ylabel(\"Accuracy\") \n",
    "plt.show()"
   ]
  },
  {
   "cell_type": "code",
   "execution_count": 29,
   "metadata": {
    "id": "9hGI5nUOtd5W"
   },
   "outputs": [
    {
     "data": {
      "image/png": "[encoded data removed]",
      "text/plain": [
       "<Figure size 432x288 with 1 Axes>"
      ]
     },
     "metadata": {
      "needs_background": "light"
     },
     "output_type": "display_data"
    }
   ],
   "source": [
    "#Find the best parameters of KNeighborsClassifier\n",
    "\n",
    "Range_k = range(1,20)\n",
    "scores_list = []\n",
    "for k in Range_k:\n",
    "    classifier = KNeighborsClassifier(n_neighbors=k)\n",
    "    classifier.fit(X_train_Tfid, Y_train[:300000])\n",
    "    y_pred = classifier.predict(X_test_Tfid)\n",
    "    scores_list.append(metrics.accuracy_score(Y_test[:100000],y_pred))\n",
    "plt.plot(Range_k,scores_list)\n",
    "plt.xlabel(\"Value of K in KNeighbors model after TfidfVectorizer\")\n",
    "plt.ylabel(\"Accuracy\") \n",
    "plt.show()"
   ]
  },
  {
   "cell_type": "code",
   "execution_count": 30,
   "metadata": {
    "scrolled": true
   },
   "outputs": [
    {
     "name": "stdout",
     "output_type": "stream",
     "text": [
      "Accuracy on testing set =  0.7371\n"
     ]
    },
    {
     "data": {
      "image/png": "[encoded data removed]",
      "text/plain": [
       "<Figure size 432x288 with 2 Axes>"
      ]
     },
     "metadata": {
      "needs_background": "light"
     },
     "output_type": "display_data"
    }
   ],
   "source": [
    "#using naive bayes classifier\n",
    "from sklearn.naive_bayes import MultinomialNB\n",
    "\n",
    "naive_bayes_classifier = MultinomialNB()\n",
    "naive_bayes_classifier.fit(X_train_Tfid, Y_train[:300000])\n",
    "y_pred = classifier.predict(X_test_Tfid)\n",
    "\n",
    "\n",
    "#Evaluate your model on the testing set\n",
    "print(\"Accuracy on testing set = \", accuracy_score(Y_test[:100000], Ypred))\n",
    "\n",
    "# Plot a confusion matrix\n",
    "cm = confusion_matrix(Y_test[:100000], Ypred, normalize='true')\n",
    "sns.heatmap(cm, annot=True)\n",
    "plt.title('Confusion matrix of the classifier')\n",
    "plt.xlabel('Predicted')\n",
    "plt.ylabel('True')\n",
    "plt.show()"
   ]
  },
  {
   "cell_type": "code",
   "execution_count": 31,
   "metadata": {
    "id": "82hQHbLu0Huf"
   },
   "outputs": [
    {
     "name": "stdout",
     "output_type": "stream",
     "text": [
      "Accuracy on testing set =  0.75673\n"
     ]
    },
    {
     "data": {
      "image/png": "[encoded data removed]",
      "text/plain": [
       "<Figure size 432x288 with 2 Axes>"
      ]
     },
     "metadata": {
      "needs_background": "light"
     },
     "output_type": "display_data"
    }
   ],
   "source": [
    "#Seperate numerical data and text data\n",
    "\n",
    "from sklearn.pipeline import Pipeline\n",
    "from sklearn.tree import DecisionTreeClassifier\n",
    "import matplotlib.pyplot as plt\n",
    "import seaborn as sns\n",
    "from collections import Counter\n",
    "\n",
    "X_train_processed_num=X_train[Numerical_columns][:300000]\n",
    "X_train_processed_cat=X_train[Categorical_columns][:300000]\n",
    "X_test_processed_num=X_test[Numerical_columns][:100000]\n",
    "X_test_processed_cat=X_test[Categorical_columns][:100000]\n",
    "Y_train1=Y_train[:300000]\n",
    "Y_test1=Y_test[:100000]\n",
    "# numeric_transformer=StandardScaler()\n",
    "\n",
    "# preprocessor = ColumnTransformer(\n",
    "#     transformers=[\n",
    "#         ('num', numeric_transformer, numeric_features),\n",
    "#         ('cat', categorical_transformer, categorical_features)])\n",
    "\n",
    "\n",
    "\n",
    "#Model1\n",
    "#build model\n",
    "model1 = Pipeline(steps=[('Tfidf', TfidfVectorizer(tokenizer=Cleaned_data,max_features=20000, ngram_range=(1,5))),\n",
    "                      ('classifier', MultinomialNB())]).fit(X_train_processed_cat, Y_train1)\n",
    "#make prediction\n",
    "Ypred_1 = model1.predict(X_test_processed_cat)\n",
    "\n",
    "#Model2\n",
    "#build model\n",
    "model2 = KNeighborsClassifier(n_neighbors=10).fit(X_train_processed_num, Y_train1)\n",
    "#make prediction\n",
    "Ypred_2 = model2.predict(X_test_processed_num)\n",
    "\n",
    "#Model3\n",
    "#build model\n",
    "model3 =DecisionTreeClassifier(max_depth=5, min_samples_leaf=20, \n",
    "                              min_samples_split=20).fit(X_train_processed_num, Y_train1)\n",
    "#make prediction\n",
    "Ypred_3 = model3.predict(X_test_processed_num)\n",
    "\n",
    "#vote for the most predictions\n",
    "def most_frequent(List):\n",
    "    occurence_count = Counter(List)\n",
    "    return occurence_count.most_common(1)[0][0]\n",
    "Ypred_final=[]\n",
    "for x in range(len(Ypred_1)):\n",
    "    result=[]\n",
    "    result.append(Ypred_1[x])\n",
    "    result.append(Ypred_2[x])\n",
    "    result.append(Ypred_3[x])\n",
    "    Ypred_final.append(most_frequent(result))\n",
    "\n",
    "# Evaluate your model on the testing set\n",
    "print(\"Accuracy on testing set = \", accuracy_score(Y_test1, Ypred_final))\n",
    "\n",
    "# Plot a confusion matrix\n",
    "cm = confusion_matrix(Y_test1, Ypred_final, normalize='true')\n",
    "sns.heatmap(cm, annot=True)\n",
    "plt.title('Confusion matrix of the classifier')\n",
    "plt.xlabel('Predicted')\n",
    "plt.ylabel('True')\n",
    "plt.show()\n"
   ]
  },
  {
   "cell_type": "markdown",
   "metadata": {
    "id": "oDk82tMALXYk"
   },
   "source": [
    "## Convert numerical data into text data and merge it into review column ##"
   ]
  },
  {
   "cell_type": "code",
   "execution_count": 32,
   "metadata": {
    "colab": {
     "base_uri": "https://localhost:8080/",
     "height": 206
    },
    "id": "_QPWVbtKLWxA",
    "outputId": "b40617a2-eaf0-4578-8635-e62c7cdc086c"
   },
   "outputs": [
    {
     "data": {
      "text/html": [
       "<div>\n",
       "<style scoped>\n",
       "    .dataframe tbody tr th:only-of-type {\n",
       "        vertical-align: middle;\n",
       "    }\n",
       "\n",
       "    .dataframe tbody tr th {\n",
       "        vertical-align: top;\n",
       "    }\n",
       "\n",
       "    .dataframe thead th {\n",
       "        text-align: right;\n",
       "    }\n",
       "</style>\n",
       "<table border=\"1\" class=\"dataframe\">\n",
       "  <thead>\n",
       "    <tr style=\"text-align: right;\">\n",
       "      <th></th>\n",
       "      <th>ProductId</th>\n",
       "      <th>UserId</th>\n",
       "      <th>Helpfulness</th>\n",
       "      <th>Score</th>\n",
       "      <th>Time</th>\n",
       "      <th>Average_product_score</th>\n",
       "      <th>Average_User_score</th>\n",
       "      <th>text + summary</th>\n",
       "    </tr>\n",
       "  </thead>\n",
       "  <tbody>\n",
       "    <tr>\n",
       "      <th>0</th>\n",
       "      <td>B003AI2VGA</td>\n",
       "      <td>A141HP4LYPWMSR</td>\n",
       "      <td>1.0</td>\n",
       "      <td>3.0</td>\n",
       "      <td>1182729600</td>\n",
       "      <td>2.857143</td>\n",
       "      <td>4.144766</td>\n",
       "      <td>Synopsis: On the daily trek from Juarez, Mexic...</td>\n",
       "    </tr>\n",
       "    <tr>\n",
       "      <th>1</th>\n",
       "      <td>B003AI2VGA</td>\n",
       "      <td>A328S9RN3U5M68</td>\n",
       "      <td>1.0</td>\n",
       "      <td>3.0</td>\n",
       "      <td>1181952000</td>\n",
       "      <td>2.857143</td>\n",
       "      <td>4.131435</td>\n",
       "      <td>THE VIRGIN OF JUAREZ is based on true events s...</td>\n",
       "    </tr>\n",
       "    <tr>\n",
       "      <th>2</th>\n",
       "      <td>B003AI2VGA</td>\n",
       "      <td>A1I7QGUDP043DG</td>\n",
       "      <td>0.8</td>\n",
       "      <td>5.0</td>\n",
       "      <td>1164844800</td>\n",
       "      <td>2.857143</td>\n",
       "      <td>4.700441</td>\n",
       "      <td>The scenes in this film can be very disquietin...</td>\n",
       "    </tr>\n",
       "    <tr>\n",
       "      <th>3</th>\n",
       "      <td>B003AI2VGA</td>\n",
       "      <td>A1M5405JH9THP9</td>\n",
       "      <td>1.0</td>\n",
       "      <td>3.0</td>\n",
       "      <td>1197158400</td>\n",
       "      <td>2.857143</td>\n",
       "      <td>3.357143</td>\n",
       "      <td>THE VIRGIN OF JUAREZ (2006)&lt;br /&gt;directed by K...</td>\n",
       "    </tr>\n",
       "    <tr>\n",
       "      <th>4</th>\n",
       "      <td>B003AI2VGA</td>\n",
       "      <td>ATXL536YX71TR</td>\n",
       "      <td>1.0</td>\n",
       "      <td>3.0</td>\n",
       "      <td>1188345600</td>\n",
       "      <td>2.857143</td>\n",
       "      <td>3.903409</td>\n",
       "      <td>Informationally, this SHOWTIME original is ess...</td>\n",
       "    </tr>\n",
       "  </tbody>\n",
       "</table>\n",
       "</div>"
      ],
      "text/plain": [
       "    ProductId          UserId  Helpfulness  Score        Time  \\\n",
       "0  B003AI2VGA  A141HP4LYPWMSR          1.0    3.0  1182729600   \n",
       "1  B003AI2VGA  A328S9RN3U5M68          1.0    3.0  1181952000   \n",
       "2  B003AI2VGA  A1I7QGUDP043DG          0.8    5.0  1164844800   \n",
       "3  B003AI2VGA  A1M5405JH9THP9          1.0    3.0  1197158400   \n",
       "4  B003AI2VGA   ATXL536YX71TR          1.0    3.0  1188345600   \n",
       "\n",
       "   Average_product_score  Average_User_score  \\\n",
       "0               2.857143            4.144766   \n",
       "1               2.857143            4.131435   \n",
       "2               2.857143            4.700441   \n",
       "3               2.857143            3.357143   \n",
       "4               2.857143            3.903409   \n",
       "\n",
       "                                      text + summary  \n",
       "0  Synopsis: On the daily trek from Juarez, Mexic...  \n",
       "1  THE VIRGIN OF JUAREZ is based on true events s...  \n",
       "2  The scenes in this film can be very disquietin...  \n",
       "3  THE VIRGIN OF JUAREZ (2006)<br />directed by K...  \n",
       "4  Informationally, this SHOWTIME original is ess...  "
      ]
     },
     "execution_count": 32,
     "metadata": {},
     "output_type": "execute_result"
    }
   ],
   "source": [
    "df.head(5)"
   ]
  },
  {
   "cell_type": "code",
   "execution_count": 33,
   "metadata": {
    "colab": {
     "base_uri": "https://localhost:8080/"
    },
    "id": "uYezQB-7MKQ6",
    "outputId": "366d72d2-1167-48af-d395-3e90ef34ba49"
   },
   "outputs": [
    {
     "name": "stdout",
     "output_type": "stream",
     "text": [
      "999990\n"
     ]
    }
   ],
   "source": [
    "# create a list that contains the combination of text and text version of helpfulness, Average_product_score \n",
    "# and Average_User_score\n",
    "final_review=[]\n",
    "for index, row in df.iterrows():\n",
    "    \n",
    "    \n",
    "    combined = \"\"\n",
    "    combined += \"The helpfulness for this product is {:}, and the average score is {:} and the user has average score of {:}.\".format(row[\"Helpfulness\"],row[\"Average_product_score\"],row[\"Average_User_score\"])\n",
    "    final_review.append(combined)\n",
    "print(len(final_review))"
   ]
  },
  {
   "cell_type": "code",
   "execution_count": 34,
   "metadata": {
    "id": "yAx_kvj4OpAf"
   },
   "outputs": [],
   "source": [
    "#create a new column \"reviews\" that stores the combined text\n",
    "df[\"reviews\"]=final_review"
   ]
  },
  {
   "cell_type": "code",
   "execution_count": 35,
   "metadata": {
    "id": "KOYfD_0EPApW"
   },
   "outputs": [],
   "source": [
    "#create new dataframe with only the combined colunms\n",
    "df = df[[\"Score\",\"reviews\"]]"
   ]
  },
  {
   "cell_type": "code",
   "execution_count": 36,
   "metadata": {},
   "outputs": [
    {
     "data": {
      "text/html": [
       "<div>\n",
       "<style scoped>\n",
       "    .dataframe tbody tr th:only-of-type {\n",
       "        vertical-align: middle;\n",
       "    }\n",
       "\n",
       "    .dataframe tbody tr th {\n",
       "        vertical-align: top;\n",
       "    }\n",
       "\n",
       "    .dataframe thead th {\n",
       "        text-align: right;\n",
       "    }\n",
       "</style>\n",
       "<table border=\"1\" class=\"dataframe\">\n",
       "  <thead>\n",
       "    <tr style=\"text-align: right;\">\n",
       "      <th></th>\n",
       "      <th>Score</th>\n",
       "      <th>reviews</th>\n",
       "    </tr>\n",
       "  </thead>\n",
       "  <tbody>\n",
       "    <tr>\n",
       "      <th>0</th>\n",
       "      <td>3.0</td>\n",
       "      <td>The helpfulness for this product is 1.0, and t...</td>\n",
       "    </tr>\n",
       "    <tr>\n",
       "      <th>1</th>\n",
       "      <td>3.0</td>\n",
       "      <td>The helpfulness for this product is 1.0, and t...</td>\n",
       "    </tr>\n",
       "    <tr>\n",
       "      <th>2</th>\n",
       "      <td>5.0</td>\n",
       "      <td>The helpfulness for this product is 0.8, and t...</td>\n",
       "    </tr>\n",
       "    <tr>\n",
       "      <th>3</th>\n",
       "      <td>3.0</td>\n",
       "      <td>The helpfulness for this product is 1.0, and t...</td>\n",
       "    </tr>\n",
       "    <tr>\n",
       "      <th>4</th>\n",
       "      <td>3.0</td>\n",
       "      <td>The helpfulness for this product is 1.0, and t...</td>\n",
       "    </tr>\n",
       "  </tbody>\n",
       "</table>\n",
       "</div>"
      ],
      "text/plain": [
       "   Score                                            reviews\n",
       "0    3.0  The helpfulness for this product is 1.0, and t...\n",
       "1    3.0  The helpfulness for this product is 1.0, and t...\n",
       "2    5.0  The helpfulness for this product is 0.8, and t...\n",
       "3    3.0  The helpfulness for this product is 1.0, and t...\n",
       "4    3.0  The helpfulness for this product is 1.0, and t..."
      ]
     },
     "execution_count": 36,
     "metadata": {},
     "output_type": "execute_result"
    }
   ],
   "source": [
    "df.head(5)"
   ]
  },
  {
   "cell_type": "code",
   "execution_count": 46,
   "metadata": {
    "id": "cdU4zYJTQL53"
   },
   "outputs": [],
   "source": [
    "#split into train and text set\n",
    "from sklearn.model_selection import train_test_split\n",
    "X_train, X_test, Y_train, Y_test = train_test_split(\n",
    "        df['reviews'],\n",
    "        df['Score'],\n",
    "        test_size=0.3,\n",
    "        random_state=0\n",
    "    )"
   ]
  },
  {
   "cell_type": "code",
   "execution_count": 49,
   "metadata": {
    "colab": {
     "base_uri": "https://localhost:8080/",
     "height": 226
    },
    "id": "XnQg7M_yQ9xz",
    "outputId": "5c12fbb8-3cb8-4866-9534-3a1330c1ded3"
   },
   "outputs": [
    {
     "name": "stdout",
     "output_type": "stream",
     "text": [
      "Accuracy on testing set =  0.67902\n"
     ]
    },
    {
     "data": {
      "image/png": "[encoded data removed]",
      "text/plain": [
       "<Figure size 432x288 with 2 Axes>"
      ]
     },
     "metadata": {
      "needs_background": "light"
     },
     "output_type": "display_data"
    }
   ],
   "source": [
    "from sklearn.pipeline import Pipeline\n",
    "from sklearn.feature_extraction.text import TfidfVectorizer\n",
    "#build the model\n",
    "model = Pipeline(steps=[('Tfidf', TfidfVectorizer(tokenizer=Cleaned_data,max_features=20000, ngram_range=(1,5))),\n",
    "                      ('classifier', MultinomialNB())]).fit(X_train[:300000], Y_train[:300000])\n",
    "#make prediction\n",
    "Ypred = model.predict(X_test[:100000])X_train['reviews']\n",
    "\n",
    "# Evaluate your model on the testing set\n",
    "print(\"Accuracy on testing set = \", accuracy_score(Y_test[:100000], Ypred))\n",
    "\n",
    "# Plot a confusion matrix\n",
    "cm = confusion_matrix(Y_test[:100000], Ypred, normalize='true')\n",
    "sns.heatmap(cm, annot=True)\n",
    "plt.title('Confusion matrix of the classifier')\n",
    "plt.xlabel('Predicted')\n",
    "plt.ylabel('True')\n",
    "plt.show()"
   ]
  },
  {
   "cell_type": "markdown",
   "metadata": {
    "id": "CBnvJnCzRj8e"
   },
   "source": []
  }
 ],
 "metadata": {
  "colab": {
   "collapsed_sections": [
    "tSPr1FezXHdk"
   ],
   "name": "parse.ipynb",
   "provenance": []
  },
  "kernelspec": {
   "display_name": "Python 3 (ipykernel)",
   "language": "python",
   "name": "python3"
  },
  "language_info": {
   "codemirror_mode": {
    "name": "ipython",
    "version": 3
   },
   "file_extension": ".py",
   "mimetype": "text/x-python",
   "name": "python",
   "nbconvert_exporter": "python",
   "pygments_lexer": "ipython3",
   "version": "3.9.7"
  }
 },
 "nbformat": 4,
 "nbformat_minor": 1
}
